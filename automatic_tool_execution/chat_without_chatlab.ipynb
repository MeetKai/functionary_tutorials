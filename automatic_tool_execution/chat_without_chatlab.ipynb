{
 "cells": [
  {
   "cell_type": "markdown",
   "metadata": {},
   "source": [
    "First, define the function `get_car_price` which takes as input a string `car_name` and outputs the price of `car_name` in string format as well."
   ]
  },
  {
   "cell_type": "code",
   "execution_count": 1,
   "metadata": {},
   "outputs": [],
   "source": [
    "def get_car_price(car_name: str):\n",
    "    \"\"\"this function is used to get the price of the car given the name\n",
    "    :param car_name: name of the car to get the price\n",
    "    \"\"\"\n",
    "    car_price = {\n",
    "        \"rhino\": {\"price\": \"$20000\"},\n",
    "        \"elephant\": {\"price\": \"$25000\"} \n",
    "    }\n",
    "    for key in car_price:\n",
    "        if key in car_name.lower():\n",
    "            return {\"price\": car_price[key]}\n",
    "    return {\"price\": \"unknown\"}"
   ]
  },
  {
   "cell_type": "markdown",
   "metadata": {},
   "source": [
    "Next, manually create the LLM functions"
   ]
  },
  {
   "cell_type": "code",
   "execution_count": 2,
   "metadata": {},
   "outputs": [],
   "source": [
    "functions = [\n",
    "    {\n",
    "        \"name\": \"get_car_price\",\n",
    "        \"description\": \"this function is used to get the price of the car given the name\",\n",
    "        \"parameters\": {\n",
    "            \"type\": \"object\",\n",
    "            \"properties\": {\n",
    "                \"car_name\": {\n",
    "                    \"type\": \"string\",\n",
    "                    \"description\": \"name of the car to get the price\"\n",
    "                }\n",
    "            },\n",
    "            \"required\": [\"car_name\"]\n",
    "        }\n",
    "    }\n",
    "]"
   ]
  },
  {
   "cell_type": "markdown",
   "metadata": {},
   "source": [
    "Manually perform inference on Functionary"
   ]
  },
  {
   "cell_type": "code",
   "execution_count": 3,
   "metadata": {},
   "outputs": [],
   "source": [
    "from openai import OpenAI\n",
    "\n",
    "client = OpenAI(base_url=\"http://localhost:8000/v1\", api_key=\"functionary\")\n",
    "\n",
    "messages = [\n",
    "    {\n",
    "        \"role\": \"user\",\n",
    "        \"content\": \"What is the price of the car named 'Rhino'?\"\n",
    "    }\n",
    "]\n",
    "\n",
    "assistant_msg = client.chat.completions.create(\n",
    "    model=\"meetkai/functionary-7b-v1.4\",\n",
    "    messages=messages,\n",
    "    functions=functions,\n",
    "    temperature=0.0,\n",
    ").choices[0].message"
   ]
  },
  {
   "cell_type": "markdown",
   "metadata": {},
   "source": [
    "Manually execute function call and feeding function response back to Functionary to generate the model response"
   ]
  },
  {
   "cell_type": "code",
   "execution_count": 4,
   "metadata": {},
   "outputs": [
    {
     "name": "stdout",
     "output_type": "stream",
     "text": [
      "ChatCompletionMessage(content=\"The price of the car named 'Rhino' is $20000.\", role='assistant', function_call=None, tool_calls=None, tool_call_id=None, name=None)\n"
     ]
    }
   ],
   "source": [
    "import json\n",
    "\n",
    "def execute_function_call(message):\n",
    "    if message.function_call.name == \"get_car_price\":\n",
    "        car_name = json.loads(message.function_call.arguments)[\"car_name\"]\n",
    "        results = get_car_price(car_name)\n",
    "    else:\n",
    "        results = f\"Error: function {message.function_call.name} does not exist\"\n",
    "    return results\n",
    "\n",
    "if assistant_msg.function_call is not None:\n",
    "    results = execute_function_call(assistant_msg)\n",
    "    messages.append({\"role\": \"assistant\", \"name\": assistant_msg.function_call.name, \"content\": assistant_msg.function_call.arguments})\n",
    "    messages.append({\"role\": \"function\", \"name\": assistant_msg.function_call.name, \"content\": str(results)})\n",
    "    \n",
    "    output_msg = client.chat.completions.create(\n",
    "        model=\"meetkai/functionary-7b-v1.4\",\n",
    "        messages=messages,\n",
    "        functions=functions,\n",
    "        temperature=0.0,\n",
    "    ).choices[0].message\n",
    "    \n",
    "    print(output_msg)"
   ]
  }
 ],
 "metadata": {
  "kernelspec": {
   "display_name": "Python 3",
   "language": "python",
   "name": "python3"
  },
  "language_info": {
   "codemirror_mode": {
    "name": "ipython",
    "version": 3
   },
   "file_extension": ".py",
   "mimetype": "text/x-python",
   "name": "python",
   "nbconvert_exporter": "python",
   "pygments_lexer": "ipython3",
   "version": "3.10.12"
  }
 },
 "nbformat": 4,
 "nbformat_minor": 2
}
