{
 "cells": [
  {
   "cell_type": "code",
   "execution_count": null,
   "metadata": {},
   "outputs": [],
   "source": [
    "def get_car_price(car_name: str):\n",
    "    \"\"\"this function is used to get the price of the car given the name\n",
    "    :param car_name: name of the car to get the price\n",
    "    \"\"\"\n",
    "    car_price = {\n",
    "        \"rhino\": {\"price\": \"$20000\"},\n",
    "        \"elephant\": {\"price\": \"$25000\"} \n",
    "    }\n",
    "    for key in car_price:\n",
    "        if key in car_name.lower():\n",
    "            return {\"price\": car_price[key]}\n",
    "    return {\"price\": \"unknown\"}"
   ]
  },
  {
   "cell_type": "code",
   "execution_count": null,
   "metadata": {},
   "outputs": [],
   "source": [
    "import chatlab\n",
    "import asyncio\n",
    "\n",
    "chat = chatlab.Chat(model=\"meetkai/functionary-small-v2.2\", base_url=\"http://localhost:8000/v1\", api_key=\"functionary\")\n",
    "chat.register(get_car_price)\n",
    "asyncio.run(chat.submit(\"What is the price of the car named 'Rhino'?\", stream=False))\n",
    "\n",
    "for message in chat.messages:\n",
    "    role = message[\"role\"].upper()\n",
    "    if \"function_call\" in message:\n",
    "        func_name = message[\"function_call\"][\"name\"]\n",
    "        func_param = message[\"function_call\"][\"arguments\"]\n",
    "        print(f\"{role}: call function: {func_name}, arguments:{func_param}\")\n",
    "    else:\n",
    "        content = message[\"content\"]\n",
    "        print(f\"{role}: {content}\")"
   ]
  }
 ],
 "metadata": {
  "language_info": {
   "name": "python"
  }
 },
 "nbformat": 4,
 "nbformat_minor": 2
}
