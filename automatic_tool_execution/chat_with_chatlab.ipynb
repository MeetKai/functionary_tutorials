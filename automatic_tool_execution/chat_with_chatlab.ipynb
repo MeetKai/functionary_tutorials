{
 "cells": [
  {
   "cell_type": "markdown",
   "metadata": {},
   "source": [
    "First, define the function `get_car_price` which takes as input a string `car_name` and outputs the price of `car_name` in string format as well."
   ]
  },
  {
   "cell_type": "code",
   "execution_count": 12,
   "metadata": {},
   "outputs": [],
   "source": [
    "def get_car_price(car_name: str):\n",
    "    \"\"\"this function is used to get the price of the car given the name\n",
    "    :param car_name: name of the car to get the price\n",
    "    \"\"\"\n",
    "    car_price = {\n",
    "        \"rhino\": {\"price\": \"$20000\"},\n",
    "        \"elephant\": {\"price\": \"$25000\"} \n",
    "    }\n",
    "    for key in car_price:\n",
    "        if key in car_name.lower():\n",
    "            return {\"price\": car_price[key]}\n",
    "    return {\"price\": \"unknown\"}"
   ]
  },
  {
   "cell_type": "markdown",
   "metadata": {},
   "source": [
    "Import chatlab and call `chatlab.Chat.submit` which queries Functionary repeatedly and executes any tools called by Functionary automatically until a model response is generated."
   ]
  },
  {
   "cell_type": "code",
   "execution_count": 13,
   "metadata": {},
   "outputs": [
    {
     "data": {
      "text/html": [
       "<div><style>.chatlab-chat-details summary &gt; *  { display: inline; color: #27374D; }</style><details style=\"background: #DDE6ED; border-radius: 5px; padding: .5rem 1rem\" className=\"chatlab-chat-details\"><summary style=\"color: #27374D; cursor: pointer\"><span style=\"color: #9DB2BF; padding-left: 5px; padding-right: 5px\">𝑓</span><span style=\"color: #27374D; padding-left: 5px; padding-right: 5px\">Ran</span><span style=\"font-family: monospace; unicode-bidi: embed; white-space: pre\">get_car_price</span><span style=\"font-family: monospace; unicode-bidi: embed; white-space: pre\"></span></summary><div style=\"margin-left: 10px; margin-top: 10px\"><div><div style=\"color: #27374D; font-weight: 500; margin-bottom: 5px\">Input:</div><div style=\"background: #F7F9FA; color: #27374D; font-family: monospace; margin-bottom: 10px; overflow-x: auto; padding: 10px; unicode-bidi: embed; white-space: pre\">{&quot;car_name&quot;: &quot;Rhino&quot;}</div></div><div><div style=\"color: #27374D; font-weight: 500; margin-bottom: 5px\">Output:</div><div style=\"background: #F7F9FA; color: #27374D; font-family: monospace; margin-bottom: 10px; overflow-x: auto; padding: 10px; unicode-bidi: embed; white-space: pre\">{&#x27;price&#x27;: {&#x27;price&#x27;: &#x27;$20000&#x27;}}</div></div></div></details></div>"
      ],
      "text/plain": [
       "<chatlab.display.ChatFunctionCall at 0x7f2c50550bb0>"
      ]
     },
     "metadata": {},
     "output_type": "display_data"
    },
    {
     "data": {
      "text/markdown": [
       "The price of the car named 'Rhino' is $20000."
      ],
      "text/plain": [
       "The price of the car named 'Rhino' is $20000."
      ]
     },
     "metadata": {
      "text/markdown": {
       "chatlab": {
        "default": true
       }
      }
     },
     "output_type": "display_data"
    },
    {
     "name": "stdout",
     "output_type": "stream",
     "text": [
      "USER: What is the price of the car named 'Rhino'?\n",
      "ASSISTANT: call function: get_car_price, arguments:{\"car_name\": \"Rhino\"}\n",
      "FUNCTION: {'price': {'price': '$20000'}}\n",
      "ASSISTANT: The price of the car named 'Rhino' is $20000.\n"
     ]
    }
   ],
   "source": [
    "import chatlab\n",
    "\n",
    "chat = chatlab.Chat(model=\"meetkai/functionary-7b-v1.4\", base_url=\"http://localhost:8000/v1\", api_key=\"functionary\")\n",
    "chat.register(get_car_price)\n",
    "await chat.submit(\"What is the price of the car named 'Rhino'?\", stream=False)\n",
    "\n",
    "for message in chat.messages:\n",
    "    role = message[\"role\"].upper()\n",
    "    if \"function_call\" in message:\n",
    "        func_name = message[\"function_call\"][\"name\"]\n",
    "        func_param = message[\"function_call\"][\"arguments\"]\n",
    "        print(f\"{role}: call function: {func_name}, arguments:{func_param}\")\n",
    "    else:\n",
    "        content = message[\"content\"]\n",
    "        print(f\"{role}: {content}\")"
   ]
  }
 ],
 "metadata": {
  "kernelspec": {
   "display_name": "Python 3",
   "language": "python",
   "name": "python3"
  },
  "language_info": {
   "codemirror_mode": {
    "name": "ipython",
    "version": 3
   },
   "file_extension": ".py",
   "mimetype": "text/x-python",
   "name": "python",
   "nbconvert_exporter": "python",
   "pygments_lexer": "ipython3",
   "version": "3.10.12"
  }
 },
 "nbformat": 4,
 "nbformat_minor": 2
}
